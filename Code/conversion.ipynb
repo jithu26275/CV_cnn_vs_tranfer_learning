{
 "cells": [
  {
   "cell_type": "code",
   "execution_count": 7,
   "id": "e2d2d8d4",
   "metadata": {},
   "outputs": [
    {
     "name": "stdout",
     "output_type": "stream",
     "text": [
      "✅ Full model saved at densenet_a_full.keras\n"
     ]
    }
   ],
   "source": [
    "import tensorflow as tf\n",
    "from tensorflow.keras.models import Sequential, load_model\n",
    "from tensorflow.keras import layers\n",
    "from tensorflow.keras.applications import MobileNetV2, DenseNet121, EfficientNetB4, EfficientNetB5\n",
    "\n",
    "# Dictionary of your models with expected input shapes\n",
    "MODEL_INFO = {\n",
    "    \"mobnet_ad_base\": {\"class\": MobileNetV2, \"input_shape\": (224, 224, 3)},\n",
    "    \"mobnetfinetuned_a\": {\"class\": MobileNetV2, \"input_shape\": (224, 224, 3)},\n",
    "    \"mobnetfintuned_s\": {\"class\": MobileNetV2, \"input_shape\": (224, 224, 3)},\n",
    "    \"mobnetsgd_base\": {\"class\": MobileNetV2, \"input_shape\": (224, 224, 3)},\n",
    "    \"densenet_a_bm\": {\"class\": DenseNet121, \"input_shape\": (224, 224, 3)},\n",
    "    \"effnet_b4\": {\"class\": EfficientNetB4, \"input_shape\": (380, 380, 3)},\n",
    "    \"effnet_b5\": {\"class\": EfficientNetB5, \"input_shape\": (456, 456, 3)},\n",
    "    # Add more if needed\n",
    "}\n",
    "\n",
    "def build_model(model_key):\n",
    "    \"\"\"Build architecture matching saved weights.\"\"\"\n",
    "    info = MODEL_INFO[model_key]\n",
    "    base_model_class = info[\"class\"]\n",
    "    input_shape = info[\"input_shape\"]\n",
    "    \n",
    "    # Initialize base model without top and no weights\n",
    "    base_model = base_model_class(input_shape=input_shape, include_top=False, weights=None)\n",
    "    base_model.trainable = False\n",
    "    \n",
    "    model = Sequential([\n",
    "        layers.Input(shape=input_shape),\n",
    "        base_model,\n",
    "        layers.GlobalAveragePooling2D(),\n",
    "        layers.Dropout(0.5),\n",
    "        layers.Dense(128, activation='relu'),\n",
    "        layers.Dense(10, activation='softmax')\n",
    "    ])\n",
    "    return model\n",
    "\n",
    "def convert_weights_to_full_model(weights_path, save_path, model_key):\n",
    "    \"\"\"\n",
    "    Load weights and save a full model (architecture + weights)\n",
    "    \"\"\"\n",
    "    model = build_model(model_key)\n",
    "    model.load_weights(weights_path)\n",
    "    model.save(save_path)\n",
    "    print(f\"✅ Full model saved at {save_path}\")\n",
    "\n",
    "# Example usage for all your models\n",
    "# convert_weights_to_full_model(\"../transfer_learning_models/New folder/mobnt_ad_base.keras\", \"mobnet_ad_base_full.keras\", \"mobnet_ad_base\")\n",
    "convert_weights_to_full_model(\"../transfer_learning_models/New folder/densenet_a_bm.keras\", \"densenet_a_full.keras\", \"densenet_a_bm\")\n",
    "# convert_weights_to_full_model(\"densenet_a_bm.keras\", \"densenet_a_bm_full.keras\", \"densenet_a_bm\")\n",
    "# convert_weights_to_full_model(\"effnet_a_bm.keras\", \"effnet_b4_full.keras\", \"effnet_b4\")\n",
    "# Repeat for B5 similarly\n"
   ]
  },
  {
   "cell_type": "code",
   "execution_count": null,
   "id": "81d0fccb",
   "metadata": {},
   "outputs": [],
   "source": []
  }
 ],
 "metadata": {
  "kernelspec": {
   "display_name": "Python 3",
   "language": "python",
   "name": "python3"
  },
  "language_info": {
   "codemirror_mode": {
    "name": "ipython",
    "version": 3
   },
   "file_extension": ".py",
   "mimetype": "text/x-python",
   "name": "python",
   "nbconvert_exporter": "python",
   "pygments_lexer": "ipython3",
   "version": "3.12.0"
  }
 },
 "nbformat": 4,
 "nbformat_minor": 5
}
