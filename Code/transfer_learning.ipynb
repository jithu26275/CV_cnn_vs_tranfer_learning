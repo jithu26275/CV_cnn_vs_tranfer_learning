{
  "cells": [
    {
      "cell_type": "code",
      "execution_count": null,
      "id": "ec48fa98",
      "metadata": {
        "id": "ec48fa98"
      },
      "outputs": [],
      "source": [
        "import tensorflow as tf\n",
        "from tensorflow.keras.applications.mobilenet_v2 import MobileNetV2, preprocess_input\n",
        "from tensorflow.keras import layers, models\n",
        "from tensorflow.keras.utils import to_categorical\n",
        "from sklearn.metrics import classification_report, confusion_matrix\n",
        "import numpy as np\n",
        "import matplotlib.pyplot as plt\n",
        "import seaborn as sns"
      ]
    },
    {
      "cell_type": "code",
      "execution_count": null,
      "id": "eab6b702",
      "metadata": {
        "id": "eab6b702"
      },
      "outputs": [],
      "source": [
        "from tensorflow.keras.datasets import  cifar10"
      ]
    },
    {
      "cell_type": "code",
      "execution_count": null,
      "id": "12669b7f",
      "metadata": {
        "colab": {
          "base_uri": "https://localhost:8080/"
        },
        "id": "12669b7f",
        "outputId": "d31e503a-7dda-4837-98b0-8c88e04f6105"
      },
      "outputs": [],
      "source": [
        "(X_train, y_train), (X_test, y_test) = cifar10.load_data()"
      ]
    },
    {
      "cell_type": "code",
      "execution_count": null,
      "id": "8de2e4ed",
      "metadata": {
        "id": "8de2e4ed"
      },
      "outputs": [],
      "source": [
        "class_names = [\"airplane\", \"automobile\", \"bird\", \"cat\", \"deer\", \"dog\", \"frog\", \"horse\",\t\"ship\",\t\"truck\"]"
      ]
    },
    {
      "cell_type": "markdown",
      "id": "f35b7fe8",
      "metadata": {},
      "source": [
        "# Mobilenet V2"
      ]
    },
    {
      "cell_type": "code",
      "execution_count": null,
      "id": "9415760a",
      "metadata": {
        "id": "9415760a"
      },
      "outputs": [],
      "source": [
        "Img_size = 224\n",
        "Batch_size = 64"
      ]
    },
    {
      "cell_type": "code",
      "execution_count": null,
      "id": "e8a87b22",
      "metadata": {
        "id": "e8a87b22"
      },
      "outputs": [],
      "source": [
        "# One-hot encode labels\n",
        "y_train_cat = to_categorical(y_train, 10)\n",
        "y_test_cat = to_categorical(y_test, 10)\n",
        "\n",
        "# Define resize size (e.g. 224 for MobileNetV2)\n",
        "IMG_SIZE = 224\n",
        "BATCH_SIZE = 16  # adjust based on your GPU RAM\n",
        "\n",
        "# Create tf.data datasets\n",
        "X_train_ds = tf.data.Dataset.from_tensor_slices((X_train, y_train_cat))\n",
        "X_test_ds = tf.data.Dataset.from_tensor_slices((X_test, y_test_cat))\n",
        "\n",
        "# Preprocessing function\n",
        "def preprocess(image, label):\n",
        "    image = tf.image.resize(image, (IMG_SIZE, IMG_SIZE))  # resize to (224,224)\n",
        "    image = preprocess_input(image)                       # MobileNetV2 preprocess\n",
        "    return image, label\n",
        "\n",
        "# Apply preprocessing + batching + prefetching\n",
        "X_train_ds = X_train_ds.map(preprocess).batch(BATCH_SIZE).prefetch(tf.data.AUTOTUNE)\n",
        "X_test_ds  = X_test_ds.map(preprocess).batch(BATCH_SIZE).prefetch(tf.data.AUTOTUNE)\n"
      ]
    },
    {
      "cell_type": "code",
      "execution_count": null,
      "id": "91365d9b",
      "metadata": {
        "colab": {
          "base_uri": "https://localhost:8080/"
        },
        "id": "91365d9b",
        "outputId": "d914ce23-a427-4fd0-caad-0b97382eb494"
      },
      "outputs": [],
      "source": [
        "for images, labels in X_train_ds.take(1):\n",
        "    print(images.shape)\n",
        "    print(labels.shape)"
      ]
    },
    {
      "cell_type": "code",
      "execution_count": null,
      "id": "12425640",
      "metadata": {
        "colab": {
          "base_uri": "https://localhost:8080/",
          "height": 434
        },
        "id": "12425640",
        "outputId": "b6cf5e22-4601-4c90-9f3e-7238935883d3"
      },
      "outputs": [],
      "source": [
        "import matplotlib.pyplot as plt\n",
        "\n",
        "for images, labels in X_train_ds.take(1):\n",
        "    plt.imshow((images[0].numpy() + 1) / 2)  # MobileNet preprocess_input scales pixels\n",
        "    plt.show()\n",
        "    break"
      ]
    },
    {
      "cell_type": "code",
      "execution_count": null,
      "id": "2fe03cdc",
      "metadata": {
        "colab": {
          "base_uri": "https://localhost:8080/"
        },
        "id": "2fe03cdc",
        "outputId": "6beac334-7f80-447f-87a8-c31fe75ec591"
      },
      "outputs": [],
      "source": [
        "# Build transfer learning model\n",
        "base_model = MobileNetV2(input_shape=(224, 224, 3), include_top=False, weights='imagenet')\n",
        "base_model.trainable = False  # Freeze base"
      ]
    },
    {
      "cell_type": "code",
      "execution_count": null,
      "id": "74345d8b",
      "metadata": {
        "id": "74345d8b"
      },
      "outputs": [],
      "source": [
        "model_adam = models.Sequential([\n",
        "    base_model,\n",
        "    layers.GlobalAveragePooling2D(), # Pool spatial features into a vector\n",
        "    layers.Dense(128, activation='relu'), # Fully connected layer to learn new patterns\n",
        "    layers.Dropout(0.3),\n",
        "    layers.Dense(10, activation='softmax')\n",
        "\n",
        "])"
      ]
    },
    {
      "cell_type": "code",
      "execution_count": null,
      "id": "cf4a9630",
      "metadata": {
        "id": "cf4a9630"
      },
      "outputs": [],
      "source": [
        "model_adam.compile(optimizer='adam', loss='categorical_crossentropy', metrics=['accuracy'])"
      ]
    },
    {
      "cell_type": "code",
      "execution_count": null,
      "id": "2pBdIx3J0CnW",
      "metadata": {
        "id": "2pBdIx3J0CnW"
      },
      "outputs": [],
      "source": [
        "from tensorflow.keras.callbacks import ModelCheckpoint"
      ]
    },
    {
      "cell_type": "code",
      "execution_count": null,
      "id": "3161b1f6",
      "metadata": {
        "colab": {
          "base_uri": "https://localhost:8080/"
        },
        "id": "3161b1f6",
        "outputId": "ad273d03-fe42-4f4f-c07f-5357fa207ac2"
      },
      "outputs": [],
      "source": [
        "history_adam_mobnet = model_adam.fit(X_train_ds,validation_data=X_test_ds, epochs=10, callbacks= ModelCheckpoint(filepath='mobilenet_adam_bm.keras',monitor='val_loss',\n",
        "    save_best_only=True,mode='min',verbose=1))"
      ]
    },
    {
      "cell_type": "code",
      "execution_count": null,
      "id": "4d19746f",
      "metadata": {
        "id": "4d19746f"
      },
      "outputs": [],
      "source": [
        "model_2 = models.Sequential([\n",
        "    base_model,\n",
        "    layers.GlobalAveragePooling2D(), # Pool spatial features into a vector\n",
        "    layers.Dense(128, activation='relu'), # Fully connected layer to learn new patterns\n",
        "    layers.Dense(10, activation='softmax')\n",
        "])"
      ]
    },
    {
      "cell_type": "code",
      "execution_count": null,
      "id": "DnDD6hWazAwp",
      "metadata": {
        "id": "DnDD6hWazAwp"
      },
      "outputs": [],
      "source": [
        "model_2.compile(optimizer='SGD', loss='categorical_crossentropy', metrics=['accuracy'])"
      ]
    },
    {
      "cell_type": "code",
      "execution_count": null,
      "id": "0aIVCo1GzHXr",
      "metadata": {
        "colab": {
          "base_uri": "https://localhost:8080/"
        },
        "id": "0aIVCo1GzHXr",
        "outputId": "96a55c2b-81b5-4f25-e85f-afd32f9967c4"
      },
      "outputs": [],
      "source": [
        "history_sgd_mobilenet = model_2.fit(X_train_ds,validation_data=X_test_ds, epochs=10, callbacks= ModelCheckpoint(filepath='mobilenet_sgd_bm.keras',monitor='val_loss',\n",
        "    save_best_only=True,mode='min',verbose=1))"
      ]
    },
    {
      "cell_type": "code",
      "execution_count": null,
      "id": "n58eiGvk7mhN",
      "metadata": {
        "id": "n58eiGvk7mhN"
      },
      "outputs": [],
      "source": [
        "from tensorflow.keras.models import load_model"
      ]
    },
    {
      "cell_type": "code",
      "execution_count": null,
      "id": "EiU4lbjX6pBJ",
      "metadata": {
        "id": "EiU4lbjX6pBJ"
      },
      "outputs": [],
      "source": [
        "load_model_a = load_model('mobilenet_adam_bm.keras')\n",
        "load_model_s = load_model('mobilenet_sgd_bm.keras')"
      ]
    },
    {
      "cell_type": "code",
      "execution_count": null,
      "id": "wL0Ujsjo3HsL",
      "metadata": {
        "colab": {
          "base_uri": "https://localhost:8080/"
        },
        "id": "wL0Ujsjo3HsL",
        "outputId": "ffde748e-6262-4e4a-e933-120bf924daf6"
      },
      "outputs": [],
      "source": [
        "est_loss_a, test_acc_a = load_model_a.evaluate(X_test_ds)\n",
        "print(f\"Test Accuracy: {test_acc_a:.4f}\")\n",
        "print(f\"Test Loss: {est_loss_a:.4f}\")"
      ]
    },
    {
      "cell_type": "code",
      "execution_count": null,
      "id": "2Fks2PDT5sep",
      "metadata": {
        "colab": {
          "base_uri": "https://localhost:8080/"
        },
        "id": "2Fks2PDT5sep",
        "outputId": "61747471-347f-40c3-9980-076d7b5949ff"
      },
      "outputs": [],
      "source": [
        "est_loss_s, test_acc_s = load_model_s.evaluate(X_test_ds)\n",
        "print(f\"Test Accuracy: {test_acc_s:.4f}\")\n",
        "print(f\"Test Loss: {est_loss_s:.4f}\")"
      ]
    },
    {
      "cell_type": "code",
      "execution_count": null,
      "id": "GpmnbT7F5ebE",
      "metadata": {
        "colab": {
          "base_uri": "https://localhost:8080/"
        },
        "id": "GpmnbT7F5ebE",
        "outputId": "344b5cf5-8035-4003-9679-2e81898219f0"
      },
      "outputs": [],
      "source": [
        "# Predictions\n",
        "y_pred_probs_a = load_model_a.predict(X_test_ds)\n",
        "y_pred_a = np.argmax(y_pred_probs_a, axis=1)"
      ]
    },
    {
      "cell_type": "code",
      "execution_count": null,
      "id": "sBRQzswF6NqG",
      "metadata": {
        "colab": {
          "base_uri": "https://localhost:8080/"
        },
        "id": "sBRQzswF6NqG",
        "outputId": "f8c9c262-1e86-45a1-e472-d069d3607fcf"
      },
      "outputs": [],
      "source": [
        "# Predictions\n",
        "y_pred_probs_s = load_model_s.predict(X_test_ds)\n",
        "y_pred_s = np.argmax(y_pred_probs_s, axis=1)"
      ]
    },
    {
      "cell_type": "code",
      "execution_count": null,
      "id": "aaIsYSJd5jNq",
      "metadata": {
        "colab": {
          "base_uri": "https://localhost:8080/"
        },
        "id": "aaIsYSJd5jNq",
        "outputId": "767230bc-3537-4daa-94e5-43b6ae174985"
      },
      "outputs": [],
      "source": [
        "from sklearn.metrics import classification_report\n",
        "\n",
        "report = classification_report(y_test, y_pred_a, target_names=class_names)\n",
        "print(report)"
      ]
    },
    {
      "cell_type": "code",
      "execution_count": null,
      "id": "YZkIuNy08kpq",
      "metadata": {
        "colab": {
          "base_uri": "https://localhost:8080/"
        },
        "id": "YZkIuNy08kpq",
        "outputId": "6aa6844d-0bab-4c2d-d174-af1bc3692de4"
      },
      "outputs": [],
      "source": [
        "report = classification_report(y_test, y_pred_s, target_names=class_names)\n",
        "print(report)"
      ]
    },
    {
      "cell_type": "code",
      "execution_count": null,
      "id": "mwK1_JcG5j4S",
      "metadata": {
        "colab": {
          "base_uri": "https://localhost:8080/",
          "height": 616
        },
        "id": "mwK1_JcG5j4S",
        "outputId": "90a734a6-9a03-4aee-c779-b02a2685ecba"
      },
      "outputs": [],
      "source": [
        "cm = confusion_matrix(y_test, y_pred_a)\n",
        "\n",
        "plt.figure(figsize=(6,6))\n",
        "sns.heatmap(cm, annot=True, fmt='d', cmap='Blues',\n",
        "            xticklabels=class_names,\n",
        "            yticklabels=class_names)\n",
        "plt.xlabel('Predicted Label')\n",
        "plt.ylabel('True Label')\n",
        "plt.title('Confusion Matrix')\n",
        "plt.xticks(rotation=45)\n",
        "plt.yticks(rotation=0)\n",
        "plt.show()\n"
      ]
    },
    {
      "cell_type": "code",
      "execution_count": null,
      "id": "6qwgHvxp8td5",
      "metadata": {
        "colab": {
          "base_uri": "https://localhost:8080/",
          "height": 616
        },
        "id": "6qwgHvxp8td5",
        "outputId": "2988ba31-3552-4405-afcd-8c99dd86da00"
      },
      "outputs": [],
      "source": [
        "cm = confusion_matrix(y_test, y_pred_s)\n",
        "\n",
        "plt.figure(figsize=(6,6))\n",
        "sns.heatmap(cm, annot=True, fmt='d', cmap='Reds',\n",
        "            xticklabels=class_names,\n",
        "            yticklabels=class_names)\n",
        "plt.xlabel('Predicted Label')\n",
        "plt.ylabel('True Label')\n",
        "plt.title('Confusion Matrix')\n",
        "plt.xticks(rotation=45)\n",
        "plt.yticks(rotation=0)\n",
        "plt.show()\n"
      ]
    },
    {
      "cell_type": "code",
      "execution_count": null,
      "id": "hyIgvxxn8v11",
      "metadata": {
        "id": "hyIgvxxn8v11"
      },
      "outputs": [],
      "source": [
        "base_model.trainable = True\n",
        "\n",
        "# Freeze all layers except the last N (e.g., last 20 layers)\n",
        "fine_tune_at = len(base_model.layers) - 20\n",
        "for layer in base_model.layers[:fine_tune_at]:\n",
        "    layer.trainable = False"
      ]
    },
    {
      "cell_type": "code",
      "execution_count": null,
      "id": "_6qsnkQxDFhj",
      "metadata": {
        "id": "_6qsnkQxDFhj"
      },
      "outputs": [],
      "source": [
        "from tensorflow.keras import optimizers"
      ]
    },
    {
      "cell_type": "markdown",
      "id": "6c3bf261",
      "metadata": {},
      "source": [
        "## Fine tuning Mobile net"
      ]
    },
    {
      "cell_type": "code",
      "execution_count": null,
      "id": "rTSS-4R7C_q1",
      "metadata": {
        "colab": {
          "base_uri": "https://localhost:8080/"
        },
        "id": "rTSS-4R7C_q1",
        "outputId": "89505db0-df94-4a8d-a73f-0a29654b99f5"
      },
      "outputs": [],
      "source": [
        "load_model_a.compile(\n",
        "    optimizer=optimizers.Adam(learning_rate=1e-5),\n",
        "    loss='categorical_crossentropy',\n",
        "    metrics=['accuracy']\n",
        ")\n",
        "\n",
        "# Continue training (fine-tuning)\n",
        "fine_tune_epochs = 12\n",
        "total_epochs = 3 + fine_tune_epochs  # if trained earlier 3 epochs\n",
        "\n",
        "history_fine_a_mobnet = load_model_a.fit(\n",
        "    X_train_ds,\n",
        "    validation_data=X_test_ds,\n",
        "    epochs=total_epochs,\n",
        "    initial_epoch=3,callbacks= ModelCheckpoint(filepath='mobnetfintun_a_bm.keras',monitor='val_loss',\n",
        "    save_best_only=True,mode='min',verbose=1))\n"
      ]
    },
    {
      "cell_type": "code",
      "execution_count": null,
      "id": "wwXbJ4wADCLm",
      "metadata": {
        "colab": {
          "base_uri": "https://localhost:8080/"
        },
        "id": "wwXbJ4wADCLm",
        "outputId": "08c3c18c-1e40-4814-d210-c0c5d9a1ec1d"
      },
      "outputs": [],
      "source": [
        "load_model_s.compile(\n",
        "    optimizer=optimizers.SGD(learning_rate=1e-5),\n",
        "    loss='categorical_crossentropy',\n",
        "    metrics=['accuracy']\n",
        ")\n",
        "\n",
        "# Continue training (fine-tuning)\n",
        "fine_tune_epochs = 12\n",
        "total_epochs = 6 + fine_tune_epochs  # if trained earlier 3 epochs\n",
        "\n",
        "history_fine_s_mobnet = load_model_s.fit(\n",
        "    X_train_ds,\n",
        "    validation_data=X_test_ds,\n",
        "    epochs=total_epochs,\n",
        "    initial_epoch=3,callbacks= ModelCheckpoint(filepath='mobnetfintun_s_bm.keras',monitor='val_loss',\n",
        "    save_best_only=True,mode='min',verbose=1))"
      ]
    },
    {
      "cell_type": "code",
      "execution_count": null,
      "id": "d3h6o2gYLQnA",
      "metadata": {
        "colab": {
          "base_uri": "https://localhost:8080/",
          "height": 158
        },
        "id": "d3h6o2gYLQnA",
        "outputId": "d25bdf93-99b6-4c75-f5e2-f9485034840c"
      },
      "outputs": [],
      "source": [
        "load_a_bm = load_model('mobnetfintun_a_bm.keras')\n",
        "load_s_bm = load_model('mobnetfintun_s_bm.keras')"
      ]
    },
    {
      "cell_type": "code",
      "execution_count": null,
      "id": "-Xz1CBwSH_Ms",
      "metadata": {
        "colab": {
          "base_uri": "https://localhost:8080/"
        },
        "id": "-Xz1CBwSH_Ms",
        "outputId": "406d4c7f-8d0c-49c4-e98d-266a5aa3cab7"
      },
      "outputs": [],
      "source": [
        "test_loss_fntun, test_acc_fntun = load_a_bm.evaluate(X_test_ds)\n",
        "print(f\"Test Accuracy after fine-tuning: {test_acc_fntun:.4f}\")\n",
        "print(f\"Test Loss after fine-tuning: {test_loss_fntun:.4f}\")"
      ]
    },
    {
      "cell_type": "code",
      "execution_count": null,
      "id": "qQnLZjOJL8xx",
      "metadata": {
        "colab": {
          "base_uri": "https://localhost:8080/"
        },
        "id": "qQnLZjOJL8xx",
        "outputId": "04fa108d-e411-4dcc-f0b2-106d0666271f"
      },
      "outputs": [],
      "source": [
        "test_loss_fntun, test_acc_fntun = load_s_bm.evaluate(X_test_ds)\n",
        "print(f\"Test Accuracy after fine-tuning: {test_acc_fntun:.4f}\")\n",
        "print(f\"Test Loss after fine-tuning: {test_loss_fntun:.4f}\")"
      ]
    },
    {
      "cell_type": "code",
      "execution_count": null,
      "id": "XcZL7DF1MDxX",
      "metadata": {
        "id": "XcZL7DF1MDxX"
      },
      "outputs": [],
      "source": [
        "# Unfreeze some layers for fine-tuning\n",
        "base_model.trainable = True\n",
        "for layer in base_model.layers[:-15]:  # keep most layers frozen, fine-tune last 30\n",
        "    layer.trainable = False\n",
        "\n",
        "load_a_bm.compile(\n",
        "    optimizer=Adam(learning_rate=1e-5),  # lower LR for fine-tuning\n",
        "    loss=\"categorical_crossentropy\",\n",
        "    metrics=[\"accuracy\"]\n",
        ")\n",
        "\n",
        "history_ft_final_a = load_a_bm.fit(\n",
        "    X_train_ds,\n",
        "    validation_data=X_test_ds,\n",
        "    epochs=10,\n",
        "    # batch_size=32\n",
        ")"
      ]
    }
  ],
  "metadata": {
    "accelerator": "GPU",
    "colab": {
      "gpuType": "T4",
      "provenance": []
    },
    "kernelspec": {
      "display_name": "Python 3",
      "name": "python3"
    },
    "language_info": {
      "codemirror_mode": {
        "name": "ipython",
        "version": 3
      },
      "file_extension": ".py",
      "mimetype": "text/x-python",
      "name": "python",
      "nbconvert_exporter": "python",
      "pygments_lexer": "ipython3",
      "version": "3.12.0"
    }
  },
  "nbformat": 4,
  "nbformat_minor": 5
}
