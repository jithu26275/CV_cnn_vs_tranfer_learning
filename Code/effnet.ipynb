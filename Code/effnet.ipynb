{
  "nbformat": 4,
  "nbformat_minor": 0,
  "metadata": {
    "colab": {
      "provenance": [],
      "gpuType": "T4"
    },
    "kernelspec": {
      "name": "python3",
      "display_name": "Python 3"
    },
    "language_info": {
      "name": "python"
    },
    "accelerator": "GPU"
  },
  "cells": [
    {
      "cell_type": "code",
      "source": [
        "import tensorflow as tf\n",
        "from tensorflow.keras.applications.mobilenet_v2 import MobileNetV2, preprocess_input\n",
        "from tensorflow.keras import layers, models\n",
        "from tensorflow.keras.utils import to_categorical\n",
        "from sklearn.metrics import classification_report, confusion_matrix\n",
        "import numpy as np\n",
        "import matplotlib.pyplot as plt\n",
        "import seaborn as sns"
      ],
      "metadata": {
        "id": "n3nYJ-9uK5Wg"
      },
      "execution_count": 1,
      "outputs": []
    },
    {
      "cell_type": "code",
      "source": [
        "from tensorflow.keras.datasets import  cifar10"
      ],
      "metadata": {
        "id": "ENy-HQ4QLktF"
      },
      "execution_count": 2,
      "outputs": []
    },
    {
      "cell_type": "code",
      "source": [
        "(X_train, y_train), (X_test, y_test) = cifar10.load_data()\n",
        "class_names = [\"airplane\", \"automobile\", \"bird\", \"cat\", \"deer\", \"dog\", \"frog\", \"horse\",\t\"ship\",\t\"truck\"]"
      ],
      "metadata": {
        "colab": {
          "base_uri": "https://localhost:8080/"
        },
        "id": "WbHQSHLFLmK3",
        "outputId": "7b4ec150-8070-4ad2-a92c-8952fa4b0d80"
      },
      "execution_count": 3,
      "outputs": [
        {
          "output_type": "stream",
          "name": "stdout",
          "text": [
            "Downloading data from https://www.cs.toronto.edu/~kriz/cifar-10-python.tar.gz\n",
            "\u001b[1m170498071/170498071\u001b[0m \u001b[32m━━━━━━━━━━━━━━━━━━━━\u001b[0m\u001b[37m\u001b[0m \u001b[1m4s\u001b[0m 0us/step\n"
          ]
        }
      ]
    },
    {
      "cell_type": "code",
      "source": [
        "from tensorflow.keras.callbacks import ModelCheckpoint"
      ],
      "metadata": {
        "id": "LiVyWDxwNKji"
      },
      "execution_count": 6,
      "outputs": []
    },
    {
      "cell_type": "code",
      "source": [
        "from tensorflow.keras.applications import EfficientNetB4\n",
        "from tensorflow.keras.applications.efficientnet import preprocess_input as effnet_preprocess\n",
        "from tensorflow.keras import layers, models, optimizers\n",
        "\n",
        "y_train_cat_effnet = to_categorical(y_train, 10)\n",
        "y_test_cat_effnet = to_categorical(y_test, 10)\n",
        "\n",
        "# Preprocessing function for EfficientNet\n",
        "def preprocess(image, label):\n",
        "    image = tf.image.resize(image, (380, 380))    # EfficientNetB4 input size\n",
        "    image = effnet_preprocess(image)              # EfficientNet scaling\n",
        "    return image, label\n",
        "\n",
        "# Recreate datasets with EfficientNet preprocessing\n",
        "train_ds_eff = tf.data.Dataset.from_tensor_slices((X_train, y_train_cat_effnet))\n",
        "test_ds_eff  = tf.data.Dataset.from_tensor_slices((X_test, y_test_cat_effnet))\n",
        "\n",
        "train_ds_eff = train_ds_eff.map(preprocess).batch(16).prefetch(tf.data.AUTOTUNE)\n",
        "test_ds_eff  = test_ds_eff.map(preprocess).batch(16).prefetch(tf.data.AUTOTUNE)\n",
        "\n",
        "# Base EfficientNetB4\n",
        "base_model = EfficientNetB4(input_shape=(380, 380, 3), include_top=False, weights='imagenet')\n",
        "base_model.trainable = False   # freeze first\n",
        "\n",
        "# Build model\n",
        "model_effb4 = models.Sequential([\n",
        "    base_model,\n",
        "    layers.GlobalAveragePooling2D(),\n",
        "    layers.Dropout(0.5),\n",
        "    layers.Dense(128, activation='relu'),\n",
        "    layers.Dense(10, activation='softmax')\n",
        "])\n",
        "\n",
        "# Compile\n",
        "model_effb4.compile(\n",
        "    optimizer=optimizers.Adam(learning_rate=1e-4),\n",
        "    loss='categorical_crossentropy',\n",
        "    metrics=['accuracy']\n",
        ")\n",
        "\n",
        "# Train\n",
        "history_effb4 = model_effb4.fit(train_ds_eff, validation_data=test_ds_eff, epochs=10, callbacks= ModelCheckpoint(filepath='effnet_a_bm.keras',monitor='val_loss',\n",
        "    save_best_only=True,mode='min',verbose=1))"
      ],
      "metadata": {
        "colab": {
          "base_uri": "https://localhost:8080/"
        },
        "id": "G9CJVbA4MgvO",
        "outputId": "e4b5c4e9-777c-437e-f8b1-5833d69b5b66"
      },
      "execution_count": 7,
      "outputs": [
        {
          "output_type": "stream",
          "name": "stdout",
          "text": [
            "Epoch 1/10\n",
            "\u001b[1m3125/3125\u001b[0m \u001b[32m━━━━━━━━━━━━━━━━━━━━\u001b[0m\u001b[37m\u001b[0m \u001b[1m0s\u001b[0m 123ms/step - accuracy: 0.7870 - loss: 0.7352\n",
            "Epoch 1: val_loss improved from inf to 0.23773, saving model to effnet_a_bm.keras\n",
            "\u001b[1m3125/3125\u001b[0m \u001b[32m━━━━━━━━━━━━━━━━━━━━\u001b[0m\u001b[37m\u001b[0m \u001b[1m574s\u001b[0m 171ms/step - accuracy: 0.7870 - loss: 0.7351 - val_accuracy: 0.9220 - val_loss: 0.2377\n",
            "Epoch 2/10\n",
            "\u001b[1m3125/3125\u001b[0m \u001b[32m━━━━━━━━━━━━━━━━━━━━\u001b[0m\u001b[37m\u001b[0m \u001b[1m0s\u001b[0m 123ms/step - accuracy: 0.9107 - loss: 0.2695\n",
            "Epoch 2: val_loss improved from 0.23773 to 0.21996, saving model to effnet_a_bm.keras\n",
            "\u001b[1m3125/3125\u001b[0m \u001b[32m━━━━━━━━━━━━━━━━━━━━\u001b[0m\u001b[37m\u001b[0m \u001b[1m474s\u001b[0m 150ms/step - accuracy: 0.9107 - loss: 0.2695 - val_accuracy: 0.9279 - val_loss: 0.2200\n",
            "Epoch 3/10\n",
            "\u001b[1m3125/3125\u001b[0m \u001b[32m━━━━━━━━━━━━━━━━━━━━\u001b[0m\u001b[37m\u001b[0m \u001b[1m0s\u001b[0m 123ms/step - accuracy: 0.9150 - loss: 0.2520\n",
            "Epoch 3: val_loss improved from 0.21996 to 0.20741, saving model to effnet_a_bm.keras\n",
            "\u001b[1m3125/3125\u001b[0m \u001b[32m━━━━━━━━━━━━━━━━━━━━\u001b[0m\u001b[37m\u001b[0m \u001b[1m495s\u001b[0m 147ms/step - accuracy: 0.9150 - loss: 0.2520 - val_accuracy: 0.9307 - val_loss: 0.2074\n",
            "Epoch 4/10\n",
            "\u001b[1m3125/3125\u001b[0m \u001b[32m━━━━━━━━━━━━━━━━━━━━\u001b[0m\u001b[37m\u001b[0m \u001b[1m0s\u001b[0m 123ms/step - accuracy: 0.9202 - loss: 0.2353\n",
            "Epoch 4: val_loss improved from 0.20741 to 0.20150, saving model to effnet_a_bm.keras\n",
            "\u001b[1m3125/3125\u001b[0m \u001b[32m━━━━━━━━━━━━━━━━━━━━\u001b[0m\u001b[37m\u001b[0m \u001b[1m468s\u001b[0m 150ms/step - accuracy: 0.9202 - loss: 0.2353 - val_accuracy: 0.9325 - val_loss: 0.2015\n",
            "Epoch 5/10\n",
            "\u001b[1m3125/3125\u001b[0m \u001b[32m━━━━━━━━━━━━━━━━━━━━\u001b[0m\u001b[37m\u001b[0m \u001b[1m0s\u001b[0m 124ms/step - accuracy: 0.9211 - loss: 0.2326\n",
            "Epoch 5: val_loss improved from 0.20150 to 0.19705, saving model to effnet_a_bm.keras\n",
            "\u001b[1m3125/3125\u001b[0m \u001b[32m━━━━━━━━━━━━━━━━━━━━\u001b[0m\u001b[37m\u001b[0m \u001b[1m504s\u001b[0m 150ms/step - accuracy: 0.9211 - loss: 0.2326 - val_accuracy: 0.9337 - val_loss: 0.1970\n",
            "Epoch 6/10\n",
            "\u001b[1m3125/3125\u001b[0m \u001b[32m━━━━━━━━━━━━━━━━━━━━\u001b[0m\u001b[37m\u001b[0m \u001b[1m0s\u001b[0m 124ms/step - accuracy: 0.9222 - loss: 0.2251\n",
            "Epoch 6: val_loss improved from 0.19705 to 0.19584, saving model to effnet_a_bm.keras\n",
            "\u001b[1m3125/3125\u001b[0m \u001b[32m━━━━━━━━━━━━━━━━━━━━\u001b[0m\u001b[37m\u001b[0m \u001b[1m504s\u001b[0m 151ms/step - accuracy: 0.9222 - loss: 0.2251 - val_accuracy: 0.9351 - val_loss: 0.1958\n",
            "Epoch 7/10\n",
            "\u001b[1m3125/3125\u001b[0m \u001b[32m━━━━━━━━━━━━━━━━━━━━\u001b[0m\u001b[37m\u001b[0m \u001b[1m0s\u001b[0m 123ms/step - accuracy: 0.9249 - loss: 0.2196\n",
            "Epoch 7: val_loss improved from 0.19584 to 0.19325, saving model to effnet_a_bm.keras\n",
            "\u001b[1m3125/3125\u001b[0m \u001b[32m━━━━━━━━━━━━━━━━━━━━\u001b[0m\u001b[37m\u001b[0m \u001b[1m499s\u001b[0m 150ms/step - accuracy: 0.9249 - loss: 0.2196 - val_accuracy: 0.9358 - val_loss: 0.1933\n",
            "Epoch 8/10\n",
            "\u001b[1m3125/3125\u001b[0m \u001b[32m━━━━━━━━━━━━━━━━━━━━\u001b[0m\u001b[37m\u001b[0m \u001b[1m0s\u001b[0m 124ms/step - accuracy: 0.9256 - loss: 0.2129\n",
            "Epoch 8: val_loss improved from 0.19325 to 0.19113, saving model to effnet_a_bm.keras\n",
            "\u001b[1m3125/3125\u001b[0m \u001b[32m━━━━━━━━━━━━━━━━━━━━\u001b[0m\u001b[37m\u001b[0m \u001b[1m504s\u001b[0m 151ms/step - accuracy: 0.9256 - loss: 0.2129 - val_accuracy: 0.9371 - val_loss: 0.1911\n",
            "Epoch 9/10\n",
            "\u001b[1m3125/3125\u001b[0m \u001b[32m━━━━━━━━━━━━━━━━━━━━\u001b[0m\u001b[37m\u001b[0m \u001b[1m0s\u001b[0m 124ms/step - accuracy: 0.9285 - loss: 0.2108\n",
            "Epoch 9: val_loss improved from 0.19113 to 0.18732, saving model to effnet_a_bm.keras\n",
            "\u001b[1m3125/3125\u001b[0m \u001b[32m━━━━━━━━━━━━━━━━━━━━\u001b[0m\u001b[37m\u001b[0m \u001b[1m502s\u001b[0m 151ms/step - accuracy: 0.9285 - loss: 0.2108 - val_accuracy: 0.9376 - val_loss: 0.1873\n",
            "Epoch 10/10\n",
            "\u001b[1m3125/3125\u001b[0m \u001b[32m━━━━━━━━━━━━━━━━━━━━\u001b[0m\u001b[37m\u001b[0m \u001b[1m0s\u001b[0m 124ms/step - accuracy: 0.9301 - loss: 0.2069\n",
            "Epoch 10: val_loss did not improve from 0.18732\n",
            "\u001b[1m3125/3125\u001b[0m \u001b[32m━━━━━━━━━━━━━━━━━━━━\u001b[0m\u001b[37m\u001b[0m \u001b[1m501s\u001b[0m 150ms/step - accuracy: 0.9301 - loss: 0.2069 - val_accuracy: 0.9371 - val_loss: 0.1877\n"
          ]
        }
      ]
    },
    {
      "cell_type": "code",
      "execution_count": 10,
      "metadata": {
        "colab": {
          "base_uri": "https://localhost:8080/"
        },
        "id": "L0A7fpinK1mF",
        "outputId": "27b49931-2da2-462b-e2bc-c28e9fe02eeb"
      },
      "outputs": [
        {
          "output_type": "stream",
          "name": "stdout",
          "text": [
            "Epoch 1/10\n",
            "\u001b[1m3125/3125\u001b[0m \u001b[32m━━━━━━━━━━━━━━━━━━━━\u001b[0m\u001b[37m\u001b[0m \u001b[1m0s\u001b[0m 249ms/step - accuracy: 0.7936 - loss: 0.7277\n",
            "Epoch 1: val_loss improved from inf to 0.24621, saving model to effnetb5_a_bm.keras\n",
            "\u001b[1m3125/3125\u001b[0m \u001b[32m━━━━━━━━━━━━━━━━━━━━\u001b[0m\u001b[37m\u001b[0m \u001b[1m1054s\u001b[0m 316ms/step - accuracy: 0.7936 - loss: 0.7276 - val_accuracy: 0.9168 - val_loss: 0.2462\n",
            "Epoch 2/10\n",
            "\u001b[1m3125/3125\u001b[0m \u001b[32m━━━━━━━━━━━━━━━━━━━━\u001b[0m\u001b[37m\u001b[0m \u001b[1m0s\u001b[0m 248ms/step - accuracy: 0.9062 - loss: 0.2752\n",
            "Epoch 2: val_loss improved from 0.24621 to 0.22419, saving model to effnetb5_a_bm.keras\n",
            "\u001b[1m3125/3125\u001b[0m \u001b[32m━━━━━━━━━━━━━━━━━━━━\u001b[0m\u001b[37m\u001b[0m \u001b[1m991s\u001b[0m 313ms/step - accuracy: 0.9062 - loss: 0.2752 - val_accuracy: 0.9225 - val_loss: 0.2242\n",
            "Epoch 3/10\n",
            "\u001b[1m3125/3125\u001b[0m \u001b[32m━━━━━━━━━━━━━━━━━━━━\u001b[0m\u001b[37m\u001b[0m \u001b[1m0s\u001b[0m 248ms/step - accuracy: 0.9125 - loss: 0.2520\n",
            "Epoch 3: val_loss improved from 0.22419 to 0.21679, saving model to effnetb5_a_bm.keras\n",
            "\u001b[1m3125/3125\u001b[0m \u001b[32m━━━━━━━━━━━━━━━━━━━━\u001b[0m\u001b[37m\u001b[0m \u001b[1m981s\u001b[0m 313ms/step - accuracy: 0.9125 - loss: 0.2520 - val_accuracy: 0.9250 - val_loss: 0.2168\n",
            "Epoch 4/10\n",
            "\u001b[1m3125/3125\u001b[0m \u001b[32m━━━━━━━━━━━━━━━━━━━━\u001b[0m\u001b[37m\u001b[0m \u001b[1m0s\u001b[0m 248ms/step - accuracy: 0.9153 - loss: 0.2476\n",
            "Epoch 4: val_loss improved from 0.21679 to 0.20906, saving model to effnetb5_a_bm.keras\n",
            "\u001b[1m3125/3125\u001b[0m \u001b[32m━━━━━━━━━━━━━━━━━━━━\u001b[0m\u001b[37m\u001b[0m \u001b[1m982s\u001b[0m 313ms/step - accuracy: 0.9153 - loss: 0.2476 - val_accuracy: 0.9264 - val_loss: 0.2091\n",
            "Epoch 5/10\n",
            "\u001b[1m3125/3125\u001b[0m \u001b[32m━━━━━━━━━━━━━━━━━━━━\u001b[0m\u001b[37m\u001b[0m \u001b[1m0s\u001b[0m 248ms/step - accuracy: 0.9180 - loss: 0.2358\n",
            "Epoch 5: val_loss improved from 0.20906 to 0.20679, saving model to effnetb5_a_bm.keras\n",
            "\u001b[1m3125/3125\u001b[0m \u001b[32m━━━━━━━━━━━━━━━━━━━━\u001b[0m\u001b[37m\u001b[0m \u001b[1m978s\u001b[0m 313ms/step - accuracy: 0.9180 - loss: 0.2358 - val_accuracy: 0.9280 - val_loss: 0.2068\n",
            "Epoch 6/10\n",
            "\u001b[1m3125/3125\u001b[0m \u001b[32m━━━━━━━━━━━━━━━━━━━━\u001b[0m\u001b[37m\u001b[0m \u001b[1m0s\u001b[0m 249ms/step - accuracy: 0.9194 - loss: 0.2305\n",
            "Epoch 6: val_loss improved from 0.20679 to 0.20524, saving model to effnetb5_a_bm.keras\n",
            "\u001b[1m3125/3125\u001b[0m \u001b[32m━━━━━━━━━━━━━━━━━━━━\u001b[0m\u001b[37m\u001b[0m \u001b[1m984s\u001b[0m 314ms/step - accuracy: 0.9194 - loss: 0.2305 - val_accuracy: 0.9281 - val_loss: 0.2052\n",
            "Epoch 7/10\n",
            "\u001b[1m3125/3125\u001b[0m \u001b[32m━━━━━━━━━━━━━━━━━━━━\u001b[0m\u001b[37m\u001b[0m \u001b[1m0s\u001b[0m 248ms/step - accuracy: 0.9233 - loss: 0.2226\n",
            "Epoch 7: val_loss improved from 0.20524 to 0.20311, saving model to effnetb5_a_bm.keras\n",
            "\u001b[1m3125/3125\u001b[0m \u001b[32m━━━━━━━━━━━━━━━━━━━━\u001b[0m\u001b[37m\u001b[0m \u001b[1m980s\u001b[0m 314ms/step - accuracy: 0.9233 - loss: 0.2226 - val_accuracy: 0.9302 - val_loss: 0.2031\n",
            "Epoch 8/10\n",
            "\u001b[1m3125/3125\u001b[0m \u001b[32m━━━━━━━━━━━━━━━━━━━━\u001b[0m\u001b[37m\u001b[0m \u001b[1m0s\u001b[0m 248ms/step - accuracy: 0.9237 - loss: 0.2169\n",
            "Epoch 8: val_loss improved from 0.20311 to 0.19913, saving model to effnetb5_a_bm.keras\n",
            "\u001b[1m3125/3125\u001b[0m \u001b[32m━━━━━━━━━━━━━━━━━━━━\u001b[0m\u001b[37m\u001b[0m \u001b[1m930s\u001b[0m 298ms/step - accuracy: 0.9237 - loss: 0.2169 - val_accuracy: 0.9315 - val_loss: 0.1991\n",
            "Epoch 9/10\n",
            "\u001b[1m3125/3125\u001b[0m \u001b[32m━━━━━━━━━━━━━━━━━━━━\u001b[0m\u001b[37m\u001b[0m \u001b[1m0s\u001b[0m 249ms/step - accuracy: 0.9249 - loss: 0.2168\n",
            "Epoch 9: val_loss improved from 0.19913 to 0.19642, saving model to effnetb5_a_bm.keras\n",
            "\u001b[1m3125/3125\u001b[0m \u001b[32m━━━━━━━━━━━━━━━━━━━━\u001b[0m\u001b[37m\u001b[0m \u001b[1m1033s\u001b[0m 314ms/step - accuracy: 0.9249 - loss: 0.2168 - val_accuracy: 0.9321 - val_loss: 0.1964\n",
            "Epoch 10/10\n",
            "\u001b[1m3125/3125\u001b[0m \u001b[32m━━━━━━━━━━━━━━━━━━━━\u001b[0m\u001b[37m\u001b[0m \u001b[1m0s\u001b[0m 248ms/step - accuracy: 0.9262 - loss: 0.2108\n",
            "Epoch 10: val_loss improved from 0.19642 to 0.19333, saving model to effnetb5_a_bm.keras\n",
            "\u001b[1m3125/3125\u001b[0m \u001b[32m━━━━━━━━━━━━━━━━━━━━\u001b[0m\u001b[37m\u001b[0m \u001b[1m979s\u001b[0m 313ms/step - accuracy: 0.9262 - loss: 0.2108 - val_accuracy: 0.9335 - val_loss: 0.1933\n"
          ]
        }
      ],
      "source": [
        "from tensorflow.keras.applications import EfficientNetB5\n",
        "\n",
        "def preprocess(image, label):\n",
        "    image = tf.image.resize(image, (456, 456))    # EfficientNetB5 input size\n",
        "    image = effnet_preprocess(image)\n",
        "    return image, label\n",
        "\n",
        "train_ds_eff = tf.data.Dataset.from_tensor_slices((X_train, y_train_cat_effnet))\n",
        "test_ds_eff  = tf.data.Dataset.from_tensor_slices((X_test, y_test_cat_effnet))\n",
        "\n",
        "train_ds_eff = train_ds_eff.map(preprocess).batch(16).prefetch(tf.data.AUTOTUNE)   # smaller batch\n",
        "test_ds_eff  = test_ds_eff.map(preprocess).batch(16).prefetch(tf.data.AUTOTUNE)\n",
        "\n",
        "base_model = EfficientNetB5(input_shape=(456, 456, 3), include_top=False, weights='imagenet')\n",
        "base_model.trainable = False\n",
        "\n",
        "model_effb5 = models.Sequential([\n",
        "    base_model,\n",
        "    layers.GlobalAveragePooling2D(),\n",
        "    layers.Dropout(0.5),\n",
        "    layers.Dense(128, activation='relu'),\n",
        "    layers.Dense(10, activation='softmax')\n",
        "])\n",
        "\n",
        "model_effb5.compile(\n",
        "    optimizer=optimizers.Adam(learning_rate=1e-4),\n",
        "    loss='categorical_crossentropy',\n",
        "    metrics=['accuracy']\n",
        ")\n",
        "\n",
        "history_effb5 = model_effb5.fit(train_ds_eff, validation_data=test_ds_eff, epochs=10, callbacks= ModelCheckpoint(filepath='effnetb5_a_bm.keras',monitor='val_loss',\n",
        "    save_best_only=True,mode='min',verbose=1))"
      ]
    },
    {
      "cell_type": "code",
      "source": [],
      "metadata": {
        "id": "SDDKZTgsVctj"
      },
      "execution_count": null,
      "outputs": []
    }
  ]
}